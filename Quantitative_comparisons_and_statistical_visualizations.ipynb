{
  "nbformat": 4,
  "nbformat_minor": 0,
  "metadata": {
    "colab": {
      "name": "Quantitative comparisons and statistical visualizations.ipynb",
      "provenance": []
    },
    "kernelspec": {
      "name": "python3",
      "display_name": "Python 3"
    },
    "language_info": {
      "name": "python"
    }
  },
  "cells": [
    {
      "cell_type": "markdown",
      "source": [
        "# Quantitative comparisons and statistical visualizations"
      ],
      "metadata": {
        "id": "eGlbiZClE36c"
      }
    },
    {
      "cell_type": "markdown",
      "source": [
        "Visualizations can be used to compare data in a quantitative manner. This chapter explains several methods for quantitative visualizations."
      ],
      "metadata": {
        "id": "nxYQejftE4AZ"
      }
    },
    {
      "cell_type": "markdown",
      "source": [
        "## Bar Charts"
      ],
      "metadata": {
        "id": "8lpt70YeFCl8"
      }
    },
    {
      "cell_type": "markdown",
      "source": [
        "Bar charts visualize data that is organized according to categories as a series of bars, where the height of each bar represents the values of the data in this category."
      ],
      "metadata": {
        "id": "WWD0HRlUFMKb"
      }
    },
    {
      "cell_type": "code",
      "source": [
        "import matplotlib.pyplot as plt\n",
        "import pandas as pd\n",
        "\n",
        "medals = pd.read_csv('data/medals.csv')\n",
        "\n",
        "fig, ax = plt.subplots()\n",
        "\n",
        "# Plot a bar-chart of gold medals as a function of country\n",
        "ax.bar(medals.index, medals[\"Gold\"])\n",
        "\n",
        "# Set the x-axis tick labels to the country names\n",
        "ax.set_xticklabels(medals.index, rotation=90)\n",
        "\n",
        "# Set the y-axis label\n",
        "ax.set_ylabel(\"Number of medals\")\n",
        "\n",
        "plt.show()"
      ],
      "metadata": {
        "id": "uv-_k-gPE95b"
      },
      "execution_count": null,
      "outputs": []
    },
    {
      "cell_type": "markdown",
      "source": [
        "## Stacked bar chart"
      ],
      "metadata": {
        "id": "XbBmA_T2FeXY"
      }
    },
    {
      "cell_type": "markdown",
      "source": [
        "A stacked bar chart contains bars, where the height of each bar represents values. In addition, stacked on top of the first variable may be another variable. The additional height of this bar represents the value of this variable. And you can add more bars on top of that.\n",
        "\n"
      ],
      "metadata": {
        "id": "fIK93YIKFhkT"
      }
    },
    {
      "cell_type": "code",
      "source": [
        "import matplotlib.pyplot as plt\n",
        "import pandas as pd\n",
        "\n",
        "\n",
        "medals = pd.read_csv('data/medals.csv')\n",
        "\n",
        "# Add bars for \"Gold\" with the label \"Gold\"\n",
        "ax.bar(medals.index, medals[\"Gold\"], label=\"Gold\")\n",
        "\n",
        "# Stack bars for \"Silver\" on top with label \"Silver\"\n",
        "ax.bar(medals.index, medals[\"Silver\"], bottom=medals[\"Gold\"], label=\"Silver\")\n",
        "\n",
        "# Stack bars for \"Bronze\" on top of that with label \"Bronze\"\n",
        "ax.bar(medals.index, medals[\"Bronze\"], bottom=medals[\"Gold\"]+medals[\"Silver\"], label=\"Bronze\")\n",
        "\n",
        "# Display the legend\n",
        "ax.legend()\n",
        "\n",
        "plt.show()"
      ],
      "metadata": {
        "id": "Nlo62nTlFa8n"
      },
      "execution_count": null,
      "outputs": []
    },
    {
      "cell_type": "markdown",
      "source": [
        "## Histograms"
      ],
      "metadata": {
        "id": "v5jYmExOF2hg"
      }
    },
    {
      "cell_type": "markdown",
      "source": [
        "Histograms show the full distribution of a variable. In this exercise, we will display the distribution of weights of medalists in gymnastics and in rowing in the 2016 Olympic games for a comparison between them."
      ],
      "metadata": {
        "id": "l8T-FRQwF8l5"
      }
    },
    {
      "cell_type": "code",
      "source": [
        "import matplotlib.pyplot as plt\n",
        "import pandas as pd\n",
        "\n",
        "\n",
        "medals = pd.read_csv('data/summer2016.csv')\n",
        "\n",
        "mens_rowing = medals.groupby(['Rowing'])\n",
        "mens_gymnastics = medals.groupby(['Gymnastics'])\n",
        "\n",
        "fig, ax = plt.subplots()\n",
        "# Plot a histogram of \"Weight\" for mens_rowing\n",
        "ax.hist(mens_rowing[\"Weight\"])\n",
        "\n",
        "# Compare to histogram of \"Weight\" for mens_gymnastics\n",
        "ax.hist(mens_gymnastics[\"Weight\"])\n",
        "\n",
        "# Set the x-axis label to \"Weight (kg)\"\n",
        "ax.set_xlabel(\"Weight (kg)\")\n",
        "\n",
        "# Set the y-axis label to \"# of observations\"\n",
        "ax.set_ylabel(\"# of observations\")\n",
        "\n",
        "plt.show()"
      ],
      "metadata": {
        "id": "bECzXxfsF6m0"
      },
      "execution_count": null,
      "outputs": []
    },
    {
      "cell_type": "markdown",
      "source": [
        "## \"Step\" Histogram"
      ],
      "metadata": {
        "id": "VA5TX623GMQN"
      }
    },
    {
      "cell_type": "markdown",
      "source": [
        "Histograms allow us to see the distributions of the data in different groups in our data. In this exercise, you will select groups from the Summer 2016 Olympic Games medalist dataset to compare the height of medalist athletes in two different sports."
      ],
      "metadata": {
        "id": "RZ-e7JAbIB_n"
      }
    },
    {
      "cell_type": "code",
      "source": [
        "import matplotlib.pyplot as plt\n",
        "import pandas as pd\n",
        "\n",
        "\n",
        "medals = pd.read_csv('data/summer2016.csv')\n",
        "\n",
        "mens_rowing = medals.groupby(['Rowing'])\n",
        "mens_gymnastics = medals.groupby(['Gymnastics'])\n",
        "\n",
        "fig, ax = plt.subplots()\n",
        "\n",
        "# Plot a histogram of \"Weight\" for mens_rowing\n",
        "ax.hist(mens_rowing[\"Weight\"], label=\"Rowing\", histtype=\"step\", bins=5)\n",
        "\n",
        "# Compare to histogram of \"Weight\" for mens_gymnastics\n",
        "ax.hist(mens_gymnastics[\"Weight\"], label=\"Gymnastics\", histtype=\"step\", bins=5)\n",
        "\n",
        "ax.set_xlabel(\"Weight (kg)\")\n",
        "ax.set_ylabel(\"# of observations\")\n",
        "\n",
        "# Add the legend and show the Figure\n",
        "ax.legend()\n",
        "plt.show()"
      ],
      "metadata": {
        "id": "G_eHw6q3GB56"
      },
      "execution_count": null,
      "outputs": []
    },
    {
      "cell_type": "markdown",
      "source": [
        "# Statistical Plotting"
      ],
      "metadata": {
        "id": "xNqd0eacIiwI"
      }
    },
    {
      "cell_type": "markdown",
      "source": [
        "## Adding error-bars to a bar chart"
      ],
      "metadata": {
        "id": "ubguErE8ImQ3"
      }
    },
    {
      "cell_type": "markdown",
      "source": [
        "Statistical plotting techniques add quantitative information for comparisons into the visualization. For example, in this exercise, we will add error bars that quantify not only the difference in the means of the height of medalists in the 2016 Olympic Games, but also the standard deviation of each of these groups, as a way to assess whether the difference is substantial relative to the variability within each group."
      ],
      "metadata": {
        "id": "OWtyPE7OIrLG"
      }
    },
    {
      "cell_type": "code",
      "source": [
        "import matplotlib.pyplot as plt\n",
        "import pandas as pd\n",
        "\n",
        "\n",
        "medals = pd.read_csv('data/summer2016.csv')\n",
        "\n",
        "mens_rowing = medals.groupby(['Rowing'])\n",
        "mens_gymnastics = medals.groupby(['Gymnastics'])\n",
        "\n",
        "fig, ax = plt.subplots()\n",
        "\n",
        "# Add a bar for the rowing \"Height\" column mean/std\n",
        "ax.bar(\"Rowing\", mens_rowing[\"Height\"].mean(), yerr=mens_rowing[\"Height\"].std())\n",
        "\n",
        "# Add a bar for the gymnastics \"Height\" column mean/std\n",
        "ax.bar(\"Gymnastics\", mens_gymnastics[\"Height\"].mean(), yerr=mens_gymnastics[\"Height\"].std())\n",
        "\n",
        "# Label the y-axis\n",
        "ax.set_ylabel(\"Height (cm)\")\n",
        "\n",
        "plt.show()"
      ],
      "metadata": {
        "id": "9d0U9VUYIlcU"
      },
      "execution_count": null,
      "outputs": []
    },
    {
      "cell_type": "markdown",
      "source": [
        "## Adding error-bars to a plot\n"
      ],
      "metadata": {
        "id": "ibG2TNasI4Ce"
      }
    },
    {
      "cell_type": "code",
      "source": [
        "import matplotlib.pyplot as plt\n",
        "import pandas as pd\n",
        "\n",
        "austin_weather = pd.read_csv('data/austin_weather.csv')\n",
        "seattle_weather = pd.read_csv('data/seattle_weather.csv')\n",
        "\n",
        "fig, ax = plt.subplots()\n",
        "\n",
        "# Add Seattle temperature data in each month with error bars\n",
        "ax.errorbar(seattle_weather[\"MONTH\"], seattle_weather[\"MLY-TAVG-NORMAL\"], yerr=seattle_weather[\"MLY-TAVG-STDDEV\"])\n",
        "\n",
        "# Add Austin temperature data in each month with error bars\n",
        "ax.errorbar(austin_weather[\"MONTH\"], austin_weather[\"MLY-TAVG-NORMAL\"], yerr=austin_weather[\"MLY-TAVG-STDDEV\"]) \n",
        "\n",
        "# Set the y-axis label\n",
        "ax.set_ylabel(\"Temperature (Fahrenheit)\")\n",
        "\n",
        "plt.show()"
      ],
      "metadata": {
        "id": "3KjWWRCoI5_s"
      },
      "execution_count": null,
      "outputs": []
    },
    {
      "cell_type": "markdown",
      "source": [
        "## Creating Boxplots"
      ],
      "metadata": {
        "id": "6CR0MuIxKRz3"
      }
    },
    {
      "cell_type": "markdown",
      "source": [
        "Boxplots provide additional information about the distribution of the data that they represent. They tell us what the median of the distribution is, what the inter-quartile range is and also what the expected range of approximately 99% of the data should be. Outliers beyond this range are particularly highlighted.\n",
        "\n"
      ],
      "metadata": {
        "id": "l3AhglINKVnD"
      }
    },
    {
      "cell_type": "code",
      "source": [
        "import matplotlib.pyplot as plt\n",
        "import pandas as pd\n",
        "\n",
        "\n",
        "medals = pd.read_csv('data/summer2016.csv')\n",
        "\n",
        "mens_rowing = medals.groupby(['Rowing'])\n",
        "mens_gymnastics = medals.groupby(['Gymnastics'])\n",
        "\n",
        "fig, ax = plt.subplots()\n",
        "\n",
        "# Add a boxplot for the \"Height\" column in the DataFrames\n",
        "ax.boxplot([mens_rowing[\"Height\"], mens_gymnastics[\"Height\"]])\n",
        "\n",
        "# Add x-axis tick labels:\n",
        "ax.set_xticklabels([\"Rowing\", \"Gymnastics\"])\n",
        "\n",
        "# Add a y-axis label\n",
        "ax.set_ylabel(\"Height (cm)\")\n",
        "\n",
        "plt.show()"
      ],
      "metadata": {
        "id": "ZLJXsaUoKVKC"
      },
      "execution_count": null,
      "outputs": []
    },
    {
      "cell_type": "markdown",
      "source": [
        "## Scatter Plots"
      ],
      "metadata": {
        "id": "v4zzsIcNKgUA"
      }
    },
    {
      "cell_type": "markdown",
      "source": [
        "Scatter are a bi-variate visualization technique. They plot each record in the data as a point. The location of each point is determined by the value of two variables: the first variable determines the distance along the x-axis and the second variable determines the height along the y-axis."
      ],
      "metadata": {
        "id": "y7EdCkWDKltL"
      }
    },
    {
      "cell_type": "code",
      "source": [
        "import matplotlib.pyplot as plt\n",
        "import pandas as pd\n",
        "\n",
        "\n",
        "climate_change = pd.read_csv('data/climate_change.csv')\n",
        "\n",
        "fig, ax = plt.subplots()\n",
        "\n",
        "# Add data: \"co2\" on x-axis, \"relative_temp\" on y-axis\n",
        "ax.scatter(x=climate_change['co2'], y = climate_change['relative_temp'])\n",
        "\n",
        "# Set the x-axis label to \"CO2 (ppm)\"\n",
        "ax.set_xlabel(\"CO2 (ppm)\")\n",
        "\n",
        "# Set the y-axis label to \"Relative temperature (C)\"\n",
        "ax.set_ylabel(\"Relative temperature (C)\")\n",
        "\n",
        "plt.show()"
      ],
      "metadata": {
        "id": "ZwbMRBAdKh-O"
      },
      "execution_count": null,
      "outputs": []
    },
    {
      "cell_type": "markdown",
      "source": [
        "## Encoding time by color\n"
      ],
      "metadata": {
        "id": "X25JiKVEK0Rh"
      }
    },
    {
      "cell_type": "markdown",
      "source": [
        "The screen only has two dimensions, but we can encode another dimension in the scatter plot using color. Here, we will visualize the climate_change dataset, plotting a scatter plot of the \"co2\" column, on the x-axis, against the \"relative_temp\" column, on the y-axis. We will encode time using the color dimension, with earlier times appearing as darker shades of blue and later times appearing as brighter shades of yellow."
      ],
      "metadata": {
        "id": "jANQaTt5K1jU"
      }
    },
    {
      "cell_type": "code",
      "source": [
        "import matplotlib.pyplot as plt\n",
        "import pandas as pd\n",
        "\n",
        "\n",
        "climate_change = pd.read_csv('data/climate_change.csv')\n",
        "\n",
        "fig, ax = plt.subplots()\n",
        "\n",
        "# Add data: \"co2\", \"relative_temp\" as x-y, index as color\n",
        "ax.scatter(x=climate_change['co2'], y=climate_change['relative_temp'], c=climate_change.index)\n",
        "\n",
        "# Set the x-axis label to \"CO2 (ppm)\"\n",
        "ax.set_xlabel(\"CO2 (ppm)\")\n",
        "\n",
        "# Set the y-axis label to \"Relative temperature (C)\"\n",
        "ax.set_ylabel(\"Relative temperature (C)\")\n",
        "\n",
        "plt.show()"
      ],
      "metadata": {
        "id": "CM5VAANHK4T0"
      },
      "execution_count": null,
      "outputs": []
    }
  ]
}